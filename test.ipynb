{
 "cells": [
  {
   "cell_type": "code",
   "execution_count": 1,
   "metadata": {},
   "outputs": [],
   "source": [
    "from __future__ import absolute_import\n",
    "from __future__ import division\n",
    "from __future__ import print_function"
   ]
  },
  {
   "cell_type": "markdown",
   "metadata": {},
   "source": [
    "```\n",
    "pip install yacs\n",
    "```\n",
    "\n",
    "\n",
    "```\n",
    "pip install opencv-python\n",
    "```\n",
    "\n",
    "```\n",
    "conda install scipy\n",
    "conda install -c conda-forge opencv \n",
    "conda install -c conda-forge json_tricks\n",
    "conda install -c conda-forge pycocotools\n",
    "```\n",
    "\n",
    "OSX\n",
    "```\n",
    "conda install pytorch torchvision -c pytorch\n",
    "```"
   ]
  },
  {
   "cell_type": "code",
   "execution_count": 2,
   "metadata": {},
   "outputs": [],
   "source": [
    "from tools import init_paths\n",
    "# set up paths\n"
   ]
  },
  {
   "cell_type": "code",
   "execution_count": 3,
   "metadata": {},
   "outputs": [],
   "source": [
    "from config import cfg\n",
    "from config import update_config\n",
    "from core.loss import JointsMSELoss\n",
    "from core.function import validate\n",
    "from utils.utils import create_logger"
   ]
  },
  {
   "cell_type": "markdown",
   "metadata": {},
   "source": [
    "## load config\n",
    "```\n",
    "python test.py --cfg experiments/mpii/hrnet/w32_256x256_adam_lr1e-3.yaml TEST.MODEL_FILE /mnt/models/HRNet/pose_mpii/pose_hrnet_w32_256x256.pth\n",
    "```"
   ]
  },
  {
   "cell_type": "code",
   "execution_count": 4,
   "metadata": {},
   "outputs": [],
   "source": [
    "# load config\n",
    "cfg.defrost()\n",
    "cfg.merge_from_file('experiments/mpii/hrnet/w32_256x256_adam_lr1e-3.yaml')\n",
    "cfg.TEST.MODEL_FILE = '/mnt/models/HRNet/pose_mpii/pose_hrnet_w32_256x256.pth'    "
   ]
  },
  {
   "cell_type": "code",
   "execution_count": 5,
   "metadata": {},
   "outputs": [
    {
     "data": {
      "text/plain": [
       "CfgNode({'NAME': 'pose_hrnet', 'INIT_WEIGHTS': True, 'PRETRAINED': 'models/pytorch/imagenet/hrnet_w32-36af842e.pth', 'NUM_JOINTS': 16, 'TAG_PER_JOINT': True, 'TARGET_TYPE': 'gaussian', 'IMAGE_SIZE': [256, 256], 'HEATMAP_SIZE': [64, 64], 'SIGMA': 2, 'EXTRA': CfgNode({'PRETRAINED_LAYERS': ['conv1', 'bn1', 'conv2', 'bn2', 'layer1', 'transition1', 'stage2', 'transition2', 'stage3', 'transition3', 'stage4'], 'FINAL_CONV_KERNEL': 1, 'STAGE2': CfgNode({'NUM_MODULES': 1, 'NUM_BRANCHES': 2, 'BLOCK': 'BASIC', 'NUM_BLOCKS': [4, 4], 'NUM_CHANNELS': [32, 64], 'FUSE_METHOD': 'SUM'}), 'STAGE3': CfgNode({'NUM_MODULES': 4, 'NUM_BRANCHES': 3, 'BLOCK': 'BASIC', 'NUM_BLOCKS': [4, 4, 4], 'NUM_CHANNELS': [32, 64, 128], 'FUSE_METHOD': 'SUM'}), 'STAGE4': CfgNode({'NUM_MODULES': 3, 'NUM_BRANCHES': 4, 'BLOCK': 'BASIC', 'NUM_BLOCKS': [4, 4, 4, 4], 'NUM_CHANNELS': [32, 64, 128, 256], 'FUSE_METHOD': 'SUM'})})})"
      ]
     },
     "execution_count": 5,
     "metadata": {},
     "output_type": "execute_result"
    }
   ],
   "source": [
    "cfg.MODEL"
   ]
  },
  {
   "cell_type": "code",
   "execution_count": 23,
   "metadata": {},
   "outputs": [
    {
     "ename": "NameError",
     "evalue": "name 'args' is not defined",
     "output_type": "error",
     "traceback": [
      "\u001b[0;31m---------------------------------------------------------------------------\u001b[0m",
      "\u001b[0;31mNameError\u001b[0m                                 Traceback (most recent call last)",
      "\u001b[0;32m<ipython-input-23-0eede1037a06>\u001b[0m in \u001b[0;36m<module>\u001b[0;34m\u001b[0m\n\u001b[1;32m      1\u001b[0m logger, final_output_dir, tb_log_dir = create_logger(\n\u001b[0;32m----> 2\u001b[0;31m         cfg, args.cfg, 'valid')\n\u001b[0m\u001b[1;32m      3\u001b[0m \u001b[0;34m\u001b[0m\u001b[0m\n\u001b[1;32m      4\u001b[0m \u001b[0;31m# logger.info(pprint.pformat(args))\u001b[0m\u001b[0;34m\u001b[0m\u001b[0;34m\u001b[0m\u001b[0;34m\u001b[0m\u001b[0m\n\u001b[1;32m      5\u001b[0m \u001b[0mlogger\u001b[0m\u001b[0;34m.\u001b[0m\u001b[0minfo\u001b[0m\u001b[0;34m(\u001b[0m\u001b[0mcfg\u001b[0m\u001b[0;34m)\u001b[0m\u001b[0;34m\u001b[0m\u001b[0;34m\u001b[0m\u001b[0m\n",
      "\u001b[0;31mNameError\u001b[0m: name 'args' is not defined"
     ]
    }
   ],
   "source": [
    "# logger, final_output_dir, tb_log_dir = create_logger(\n",
    "#         cfg, args.cfg, 'valid')\n",
    "\n",
    "# logger.info(pprint.pformat(args))\n",
    "# logger.info(cfg)"
   ]
  },
  {
   "cell_type": "markdown",
   "metadata": {},
   "source": [
    "## load model"
   ]
  },
  {
   "cell_type": "code",
   "execution_count": 6,
   "metadata": {},
   "outputs": [
    {
     "data": {
      "text/plain": [
       "'pose_hrnet'"
      ]
     },
     "execution_count": 6,
     "metadata": {},
     "output_type": "execute_result"
    }
   ],
   "source": [
    "cfg.MODEL.NAME"
   ]
  },
  {
   "cell_type": "code",
   "execution_count": 7,
   "metadata": {},
   "outputs": [],
   "source": [
    "from models.pose_hrnet import get_pose_net\n",
    "model = get_pose_net(cfg,is_train=False)"
   ]
  },
  {
   "cell_type": "code",
   "execution_count": 8,
   "metadata": {},
   "outputs": [],
   "source": [
    "try:\n",
    "    logger.info('=> loading model from {}'.format(cfg.TEST.MODEL_FILE))\n",
    "    model.load_state_dict(torch.load(cfg.TEST.MODEL_FILE), strict=False)\n",
    "except:\n",
    "    pass"
   ]
  },
  {
   "cell_type": "code",
   "execution_count": 10,
   "metadata": {},
   "outputs": [],
   "source": [
    "import torch\n",
    "\n",
    "USE_CUDA = True\n",
    "\n",
    "if USE_CUDA:\n",
    "    model = torch.nn.DataParallel(model, device_ids=cfg.GPUS).cuda()\n",
    "else:\n",
    "    model = torch.nn.DataParallel(model)\n",
    "#"
   ]
  },
  {
   "cell_type": "code",
   "execution_count": 11,
   "metadata": {},
   "outputs": [],
   "source": [
    "# cudnn related setting\n",
    "import torch.backends.cudnn as cudnn\n",
    "cudnn.benchmark = cfg.CUDNN.BENCHMARK\n",
    "torch.backends.cudnn.deterministic = cfg.CUDNN.DETERMINISTIC\n",
    "torch.backends.cudnn.enabled = cfg.CUDNN.ENABLED\n"
   ]
  },
  {
   "cell_type": "code",
   "execution_count": 12,
   "metadata": {},
   "outputs": [],
   "source": [
    "# define loss function (criterion) and optimizer\n",
    "criterion = JointsMSELoss(\n",
    "    use_target_weight=cfg.LOSS.USE_TARGET_WEIGHT\n",
    ").cuda()"
   ]
  },
  {
   "cell_type": "code",
   "execution_count": 20,
   "metadata": {},
   "outputs": [
    {
     "name": "stdout",
     "output_type": "stream",
     "text": [
      "mpii\n",
      "data/mpii/\n",
      "valid\n"
     ]
    }
   ],
   "source": [
    "# Data loading code\n",
    "from torchvision import transforms\n",
    "normalize = transforms.Normalize(\n",
    "    mean=[0.485, 0.456, 0.406], std=[0.229, 0.224, 0.225]\n",
    ")\n",
    "\n",
    "print(cfg.DATASET.DATASET)\n",
    "print(cfg.DATASET.ROOT)\n",
    "print(cfg.DATASET.TEST_SET)\n",
    "from dataset import mpii\n",
    "valid_dataset = mpii(\n",
    "# valid_dataset = eval('dataset.'+cfg.DATASET.DATASET)(\n",
    "    cfg, cfg.DATASET.ROOT, cfg.DATASET.TEST_SET, False,\n",
    "    transforms.Compose([\n",
    "        transforms.ToTensor(),\n",
    "        normalize,\n",
    "    ])\n",
    ")\n",
    "valid_loader = torch.utils.data.DataLoader(\n",
    "    valid_dataset,\n",
    "    batch_size=cfg.TEST.BATCH_SIZE_PER_GPU*len(cfg.GPUS),\n",
    "    shuffle=False,\n",
    "    num_workers=cfg.WORKERS,\n",
    "    pin_memory=True\n",
    ")"
   ]
  },
  {
   "cell_type": "code",
   "execution_count": 26,
   "metadata": {},
   "outputs": [
    {
     "data": {
      "text/plain": [
       "2958"
      ]
     },
     "execution_count": 26,
     "metadata": {},
     "output_type": "execute_result"
    }
   ],
   "source": [
    "len(valid_dataset) # number of samples"
   ]
  },
  {
   "cell_type": "code",
   "execution_count": 27,
   "metadata": {},
   "outputs": [
    {
     "data": {
      "text/plain": [
       "24"
      ]
     },
     "execution_count": 27,
     "metadata": {},
     "output_type": "execute_result"
    }
   ],
   "source": [
    "len(valid_loader) # number of workers"
   ]
  },
  {
   "cell_type": "code",
   "execution_count": null,
   "metadata": {},
   "outputs": [],
   "source": [
    "# define my_validate function\n",
    "def my_validate(config, val_loader, val_dataset, model, criterion, output_dir,\n",
    "             tb_log_dir, writer_dict=None):\n",
    "    batch_time = AverageMeter()\n",
    "    losses = AverageMeter()\n",
    "    acc = AverageMeter()\n",
    "\n",
    "    # switch to evaluate mode\n",
    "    model.eval()\n",
    "\n",
    "    num_samples = len(val_dataset)\n",
    "    all_preds = np.zeros(\n",
    "        (num_samples, config.MODEL.NUM_JOINTS, 3),\n",
    "        dtype=np.float32\n",
    "    )\n",
    "    all_boxes = np.zeros((num_samples, 6))\n",
    "    image_path = []\n",
    "    filenames = []\n",
    "    imgnums = []\n",
    "    idx = 0\n",
    "    with torch.no_grad():\n",
    "        end = time.time()\n",
    "        for i, (input, target, target_weight, meta) in enumerate(val_loader):\n",
    "            # compute output\n",
    "            outputs = model(input)\n",
    "            if isinstance(outputs, list):\n",
    "                output = outputs[-1]\n",
    "            else:\n",
    "                output = outputs\n",
    "\n",
    "            if config.TEST.FLIP_TEST:\n",
    "                # this part is ugly, because pytorch has not supported negative index\n",
    "                # input_flipped = model(input[:, :, :, ::-1])\n",
    "                input_flipped = np.flip(input.cpu().numpy(), 3).copy()\n",
    "                input_flipped = torch.from_numpy(input_flipped).cuda()\n",
    "                outputs_flipped = model(input_flipped)\n",
    "\n",
    "                if isinstance(outputs_flipped, list):\n",
    "                    output_flipped = outputs_flipped[-1]\n",
    "                else:\n",
    "                    output_flipped = outputs_flipped\n",
    "\n",
    "                output_flipped = flip_back(output_flipped.cpu().numpy(),\n",
    "                                           val_dataset.flip_pairs)\n",
    "                output_flipped = torch.from_numpy(output_flipped.copy()).cuda()\n",
    "\n",
    "\n",
    "                # feature is not aligned, shift flipped heatmap for higher accuracy\n",
    "                if config.TEST.SHIFT_HEATMAP:\n",
    "                    output_flipped[:, :, :, 1:] = \\\n",
    "                        output_flipped.clone()[:, :, :, 0:-1]\n",
    "\n",
    "                output = (output + output_flipped) * 0.5\n",
    "\n",
    "            target = target.cuda(non_blocking=True)\n",
    "            target_weight = target_weight.cuda(non_blocking=True)\n",
    "\n",
    "            loss = criterion(output, target, target_weight)\n",
    "\n",
    "            num_images = input.size(0)\n",
    "            # measure accuracy and record loss\n",
    "            losses.update(loss.item(), num_images)\n",
    "            _, avg_acc, cnt, pred = accuracy(output.cpu().numpy(),\n",
    "                                             target.cpu().numpy())\n",
    "\n",
    "            acc.update(avg_acc, cnt)\n",
    "\n",
    "            # measure elapsed time\n",
    "            batch_time.update(time.time() - end)\n",
    "            end = time.time()\n",
    "\n",
    "            c = meta['center'].numpy()\n",
    "            s = meta['scale'].numpy()\n",
    "            score = meta['score'].numpy()\n",
    "\n",
    "            preds, maxvals = get_final_preds(\n",
    "                config, output.clone().cpu().numpy(), c, s)\n",
    "\n",
    "            all_preds[idx:idx + num_images, :, 0:2] = preds[:, :, 0:2]\n",
    "            all_preds[idx:idx + num_images, :, 2:3] = maxvals\n",
    "            # double check this all_boxes parts\n",
    "            all_boxes[idx:idx + num_images, 0:2] = c[:, 0:2]\n",
    "            all_boxes[idx:idx + num_images, 2:4] = s[:, 0:2]\n",
    "            all_boxes[idx:idx + num_images, 4] = np.prod(s*200, 1)\n",
    "            all_boxes[idx:idx + num_images, 5] = score\n",
    "            image_path.extend(meta['image'])\n",
    "\n",
    "            idx += num_images\n",
    "\n",
    "            if i % config.PRINT_FREQ == 0:\n",
    "                msg = 'Test: [{0}/{1}]\\t' \\\n",
    "                      'Time {batch_time.val:.3f} ({batch_time.avg:.3f})\\t' \\\n",
    "                      'Loss {loss.val:.4f} ({loss.avg:.4f})\\t' \\\n",
    "                      'Accuracy {acc.val:.3f} ({acc.avg:.3f})'.format(\n",
    "                          i, len(val_loader), batch_time=batch_time,\n",
    "                          loss=losses, acc=acc)\n",
    "                logger.info(msg)\n",
    "\n",
    "                prefix = '{}_{}'.format(\n",
    "                    os.path.join(output_dir, 'val'), i\n",
    "                )\n",
    "                save_debug_images(config, input, meta, target, pred*4, output,\n",
    "                                  prefix)\n",
    "\n",
    "        name_values, perf_indicator = val_dataset.evaluate(\n",
    "            config, all_preds, output_dir, all_boxes, image_path,\n",
    "            filenames, imgnums\n",
    "        )\n",
    "\n",
    "        # save all results\n",
    "        np.save(output_dir+'/preds', all_preds)\n",
    "        np.save(output_dir + '/boxes', all_boxes)\n",
    "\n",
    "\n",
    "\n",
    "        model_name = config.MODEL.NAME\n",
    "        if isinstance(name_values, list):\n",
    "            for name_value in name_values:\n",
    "                _print_name_value(name_value, model_name)\n",
    "        else:\n",
    "            _print_name_value(name_values, model_name)\n",
    "\n",
    "        if writer_dict:\n",
    "            writer = writer_dict['writer']\n",
    "            global_steps = writer_dict['valid_global_steps']\n",
    "            writer.add_scalar(\n",
    "                'valid_loss',\n",
    "                losses.avg,\n",
    "                global_steps\n",
    "            )\n",
    "            writer.add_scalar(\n",
    "                'valid_acc',\n",
    "                acc.avg,\n",
    "                global_steps\n",
    "            )\n",
    "            if isinstance(name_values, list):\n",
    "                for name_value in name_values:\n",
    "                    writer.add_scalars(\n",
    "                        'valid',\n",
    "                        dict(name_value),\n",
    "                        global_steps\n",
    "                    )\n",
    "            else:\n",
    "                writer.add_scalars(\n",
    "                    'valid',\n",
    "                    dict(name_values),\n",
    "                    global_steps\n",
    "                )\n",
    "            writer_dict['valid_global_steps'] = global_steps + 1\n",
    "\n",
    "    return perf_indicator\n"
   ]
  },
  {
   "cell_type": "code",
   "execution_count": 29,
   "metadata": {},
   "outputs": [
    {
     "data": {
      "text/plain": [
       "1.2047879260994017"
      ]
     },
     "execution_count": 29,
     "metadata": {},
     "output_type": "execute_result"
    }
   ],
   "source": [
    "# evaluate on validation set\n",
    "output_dir = 'output_notebook'\n",
    "log_dir = 'log_notebook'\n",
    "my_validate(cfg, valid_loader, valid_dataset, model, criterion,\n",
    "         output_dir, log_dir)"
   ]
  },
  {
   "cell_type": "markdown",
   "metadata": {},
   "source": [
    "## analyze predictions"
   ]
  },
  {
   "cell_type": "code",
   "execution_count": 32,
   "metadata": {},
   "outputs": [],
   "source": [
    "import os\n",
    "from scipy.io import loadmat\n",
    "\n",
    "pred_file = os.path.join(output_dir, 'pred.mat')\n",
    "preds = loadmat(pred_file)['preds']\n",
    "\n",
    "# see evaluate() in dataset/mpii.py"
   ]
  },
  {
   "cell_type": "code",
   "execution_count": 34,
   "metadata": {},
   "outputs": [
    {
     "data": {
      "text/plain": [
       "(2958, 16, 2)"
      ]
     },
     "execution_count": 34,
     "metadata": {},
     "output_type": "execute_result"
    }
   ],
   "source": [
    "preds.shape"
   ]
  },
  {
   "cell_type": "code",
   "execution_count": 85,
   "metadata": {},
   "outputs": [
    {
     "name": "stdout",
     "output_type": "stream",
     "text": [
      "[[194.67165 328.1863 ]\n",
      " [203.64525 325.1951 ]\n",
      " [197.66284 340.1511 ]\n",
      " [194.67165 319.2127 ]\n",
      " [206.63644 319.2127 ]\n",
      " [212.61884 349.1247 ]\n",
      " [212.61884 220.5032 ]\n",
      " [284.40756 232.468  ]\n",
      " [167.75087 199.56482]\n",
      " [ 79.51055  39.53577]\n",
      " [227.57483 355.1071 ]\n",
      " [182.70686 316.22153]\n",
      " [218.60123 337.1599 ]\n",
      " [194.67165 319.2127 ]\n",
      " [251.5044  337.1599 ]\n",
      " [182.70686 355.1071 ]]\n"
     ]
    },
    {
     "data": {
      "text/plain": [
       "<matplotlib.collections.PathCollection at 0x7fbd8807da58>"
      ]
     },
     "execution_count": 85,
     "metadata": {},
     "output_type": "execute_result"
    },
    {
     "data": {
      "image/png": "[encoded data removed]",
      "text/plain": [
       "<Figure size 432x288 with 1 Axes>"
      ]
     },
     "metadata": {
      "needs_background": "light"
     },
     "output_type": "display_data"
    }
   ],
   "source": [
    "import matplotlib.pyplot as plt\n",
    "%matplotlib inline\n",
    "\n",
    "sample_idx = 1200\n",
    "print(preds[sample_idx])\n",
    "plt.scatter(preds[sample_idx][:,0], preds[sample_idx][:,1])"
   ]
  },
  {
   "cell_type": "code",
   "execution_count": 86,
   "metadata": {},
   "outputs": [
    {
     "data": {
      "text/plain": [
       "array([[513.8623 , 454.6131 ],\n",
       "       [214.48802, 334.17517],\n",
       "       [400.30655, 440.84875],\n",
       "       [341.80814, 444.28986],\n",
       "       [186.95935, 337.61624],\n",
       "       [102.6528 , 439.12823],\n",
       "       [352.13138, 313.52866],\n",
       "       [283.3097 , 196.5318 ],\n",
       "       [515.5829 , 459.77472],\n",
       "       [116.41713,  26.19815],\n",
       "       [529.3472 , 418.48172],\n",
       "       [142.22527, 358.26276],\n",
       "       [314.27945, 416.76117],\n",
       "       [393.42438, 454.6131 ],\n",
       "       [269.54538, 430.5255 ],\n",
       "       [102.6528 , 418.48172]], dtype=float32)"
      ]
     },
     "execution_count": 86,
     "metadata": {},
     "output_type": "execute_result"
    }
   ],
   "source": [
    "preds[1]"
   ]
  },
  {
   "cell_type": "code",
   "execution_count": 116,
   "metadata": {},
   "outputs": [
    {
     "data": {
      "text/plain": [
       "<matplotlib.collections.PathCollection at 0x7fbd18873828>"
      ]
     },
     "execution_count": 116,
     "metadata": {},
     "output_type": "execute_result"
    },
    {
     "data": {
      "image/png": "[encoded data removed]",
      "text/plain": [
       "<Figure size 432x288 with 3 Axes>"
      ]
     },
     "metadata": {
      "needs_background": "light"
     },
     "output_type": "display_data"
    }
   ],
   "source": [
    "import cv2\n",
    "\n",
    "sample_idx = 0\n",
    "anno = valid_dataset[sample_idx][3]\n",
    "# print(anno)\n",
    "\n",
    "image_name = anno['image']\n",
    "joints = anno['joints']\n",
    "center = anno['center']\n",
    "scale = anno['scale']\n",
    "\n",
    "plt.subplot(211)\n",
    "plt.imshow(im[:,:,::-1])\n",
    "plt.scatter(joints[:,0]+center[0], joints[:,1]+center[1])\n",
    "#plt.scatter(scale[0]*(joints[:,0]+1), scale[1]*(joints[:,1]+1))\n",
    "plt.scatter(preds[sample_idx][:,0], preds[sample_idx][:,1])\n",
    "\n",
    "plt.subplot(223)\n",
    "plt.scatter(joints[:,0], preds[sample_idx][:,0])\n",
    "\n",
    "plt.subplot(224)\n",
    "plt.scatter(joints[:,1], preds[sample_idx][:,1])"
   ]
  },
  {
   "cell_type": "code",
   "execution_count": 118,
   "metadata": {},
   "outputs": [
    {
     "data": {
      "text/plain": [
       "(2958, 16, 2)"
      ]
     },
     "execution_count": 118,
     "metadata": {},
     "output_type": "execute_result"
    }
   ],
   "source": [
    "preds.shape"
   ]
  },
  {
   "cell_type": "code",
   "execution_count": 119,
   "metadata": {},
   "outputs": [],
   "source": [
    "gt_file = os.path.join(cfg.DATASET.ROOT,\n",
    "                               'annot',\n",
    "                               'gt_{}.mat'.format(cfg.DATASET.TEST_SET))\n",
    "gt_dict = loadmat(gt_file)\n",
    "dataset_joints = gt_dict['dataset_joints']\n",
    "jnt_missing = gt_dict['jnt_missing']\n",
    "pos_gt_src = gt_dict['pos_gt_src']\n",
    "headboxes_src = gt_dict['headboxes_src']"
   ]
  },
  {
   "cell_type": "code",
   "execution_count": 120,
   "metadata": {},
   "outputs": [
    {
     "data": {
      "text/plain": [
       "array([[array(['rank'], dtype='<U4'), array(['rkne'], dtype='<U4'),\n",
       "        array(['rhip'], dtype='<U4'), array(['lhip'], dtype='<U4'),\n",
       "        array(['lkne'], dtype='<U4'), array(['lank'], dtype='<U4'),\n",
       "        array(['pelv'], dtype='<U4'), array(['thor'], dtype='<U4'),\n",
       "        array(['neck'], dtype='<U4'), array(['head'], dtype='<U4'),\n",
       "        array(['rwri'], dtype='<U4'), array(['relb'], dtype='<U4'),\n",
       "        array(['rsho'], dtype='<U4'), array(['lsho'], dtype='<U4'),\n",
       "        array(['lelb'], dtype='<U4'), array(['lwri'], dtype='<U4')]],\n",
       "      dtype=object)"
      ]
     },
     "execution_count": 120,
     "metadata": {},
     "output_type": "execute_result"
    }
   ],
   "source": [
    "dataset_joints"
   ]
  },
  {
   "cell_type": "code",
   "execution_count": 122,
   "metadata": {},
   "outputs": [],
   "source": [
    "import numpy as np\n",
    "pos_pred_src = np.transpose(preds, [1, 2, 0])"
   ]
  },
  {
   "cell_type": "code",
   "execution_count": 123,
   "metadata": {},
   "outputs": [
    {
     "data": {
      "text/plain": [
       "(16, 2, 2958)"
      ]
     },
     "execution_count": 123,
     "metadata": {},
     "output_type": "execute_result"
    }
   ],
   "source": [
    "pos_pred_src.shape"
   ]
  },
  {
   "cell_type": "code",
   "execution_count": null,
   "metadata": {},
   "outputs": [],
   "source": []
  }
 ],
 "metadata": {
  "kernelspec": {
   "display_name": "Python 3",
   "language": "python",
   "name": "python3"
  },
  "language_info": {
   "codemirror_mode": {
    "name": "ipython",
    "version": 3
   },
   "file_extension": ".py",
   "mimetype": "text/x-python",
   "name": "python",
   "nbconvert_exporter": "python",
   "pygments_lexer": "ipython3",
   "version": "3.6.8"
  }
 },
 "nbformat": 4,
 "nbformat_minor": 2
}
